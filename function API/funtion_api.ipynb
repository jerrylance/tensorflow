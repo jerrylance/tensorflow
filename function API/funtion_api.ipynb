{
 "cells": [
  {
   "cell_type": "code",
   "execution_count": 1,
   "metadata": {},
   "outputs": [],
   "source": [
    "import tensorflow as tf"
   ]
  },
  {
   "cell_type": "code",
   "execution_count": 2,
   "metadata": {},
   "outputs": [],
   "source": [
    "from tensorflow import keras\n",
    "import matplotlib.pyplot as plt\n",
    "%matplotlib inline"
   ]
  },
  {
   "cell_type": "code",
   "execution_count": 3,
   "metadata": {},
   "outputs": [],
   "source": [
    "fashion_mnist = keras.datasets.fashion_mnist\n",
    "(train_images, train_labels), (test_images, test_labels) = fashion_mnist.load_data()"
   ]
  },
  {
   "cell_type": "code",
   "execution_count": 4,
   "metadata": {},
   "outputs": [],
   "source": [
    "train_images = train_images / 255.0\n",
    "test_images = test_images / 255.0"
   ]
  },
  {
   "cell_type": "code",
   "execution_count": 5,
   "metadata": {},
   "outputs": [
    {
     "data": {
      "text/plain": [
       "(60000, 28, 28)"
      ]
     },
     "execution_count": 5,
     "metadata": {},
     "output_type": "execute_result"
    }
   ],
   "source": [
    "train_images.shape"
   ]
  },
  {
   "cell_type": "code",
   "execution_count": 6,
   "metadata": {},
   "outputs": [],
   "source": [
    "input = keras.Input(shape=(28,28))"
   ]
  },
  {
   "cell_type": "code",
   "execution_count": 7,
   "metadata": {},
   "outputs": [],
   "source": [
    "#keras直接调用Flatten层\n",
    "x = keras.layers.Flatten()(input)"
   ]
  },
  {
   "cell_type": "code",
   "execution_count": 8,
   "metadata": {},
   "outputs": [],
   "source": [
    "#实质上是类，可调用\n",
    "x = keras.layers.Dense(32, activation='relu')(x)"
   ]
  },
  {
   "cell_type": "code",
   "execution_count": 9,
   "metadata": {},
   "outputs": [],
   "source": [
    "x = keras.layers.Dropout(0.5)(x)"
   ]
  },
  {
   "cell_type": "code",
   "execution_count": 10,
   "metadata": {},
   "outputs": [],
   "source": [
    "x = keras.layers.Dense(64, activation='relu')(x)"
   ]
  },
  {
   "cell_type": "code",
   "execution_count": 11,
   "metadata": {},
   "outputs": [],
   "source": [
    "output = keras.layers.Dense(10, activation='softmax')(x)"
   ]
  },
  {
   "cell_type": "code",
   "execution_count": 12,
   "metadata": {},
   "outputs": [],
   "source": [
    "#用keras建立model,model = keras.Model(inputs= , outputs= )\n",
    "model = keras.Model(inputs=input, outputs=output)"
   ]
  },
  {
   "cell_type": "code",
   "execution_count": 14,
   "metadata": {},
   "outputs": [
    {
     "name": "stdout",
     "output_type": "stream",
     "text": [
      "Model: \"model\"\n",
      "_________________________________________________________________\n",
      "Layer (type)                 Output Shape              Param #   \n",
      "=================================================================\n",
      "input_1 (InputLayer)         [(None, 28, 28)]          0         \n",
      "_________________________________________________________________\n",
      "flatten (Flatten)            (None, 784)               0         \n",
      "_________________________________________________________________\n",
      "dense (Dense)                (None, 32)                25120     \n",
      "_________________________________________________________________\n",
      "dropout (Dropout)            (None, 32)                0         \n",
      "_________________________________________________________________\n",
      "dense_1 (Dense)              (None, 64)                2112      \n",
      "_________________________________________________________________\n",
      "dense_2 (Dense)              (None, 10)                650       \n",
      "=================================================================\n",
      "Total params: 27,882\n",
      "Trainable params: 27,882\n",
      "Non-trainable params: 0\n",
      "_________________________________________________________________\n"
     ]
    }
   ],
   "source": [
    "model.summary()"
   ]
  },
  {
   "cell_type": "code",
   "execution_count": 15,
   "metadata": {},
   "outputs": [],
   "source": [
    "model.compile(optimizer = 'adam',              \n",
    "              loss = 'sparse_categorical_crossentropy',\n",
    "              metrics = ['accuracy']\n",
    ") "
   ]
  },
  {
   "cell_type": "code",
   "execution_count": 16,
   "metadata": {},
   "outputs": [
    {
     "name": "stdout",
     "output_type": "stream",
     "text": [
      "Train on 60000 samples, validate on 10000 samples\n",
      "Epoch 1/30\n",
      "60000/60000 [==============================] - 3s 42us/sample - loss: 0.8572 - accuracy: 0.6841 - val_loss: 0.6038 - val_accuracy: 0.7821\n",
      "Epoch 2/30\n",
      "60000/60000 [==============================] - 2s 34us/sample - loss: 0.6630 - accuracy: 0.7543 - val_loss: 0.6111 - val_accuracy: 0.7666\n",
      "Epoch 3/30\n",
      "60000/60000 [==============================] - 2s 34us/sample - loss: 0.6204 - accuracy: 0.7703 - val_loss: 0.6118 - val_accuracy: 0.7452\n",
      "Epoch 4/30\n",
      "60000/60000 [==============================] - 2s 34us/sample - loss: 0.5940 - accuracy: 0.7815 - val_loss: 0.5649 - val_accuracy: 0.7825\n",
      "Epoch 5/30\n",
      "60000/60000 [==============================] - 2s 34us/sample - loss: 0.5847 - accuracy: 0.7845 - val_loss: 0.5676 - val_accuracy: 0.7754\n",
      "Epoch 6/30\n",
      "60000/60000 [==============================] - 2s 33us/sample - loss: 0.5641 - accuracy: 0.7924 - val_loss: 0.6203 - val_accuracy: 0.7466\n",
      "Epoch 7/30\n",
      "60000/60000 [==============================] - 2s 33us/sample - loss: 0.5543 - accuracy: 0.7962 - val_loss: 0.5637 - val_accuracy: 0.7842\n",
      "Epoch 8/30\n",
      "60000/60000 [==============================] - 2s 33us/sample - loss: 0.5467 - accuracy: 0.7993 - val_loss: 0.6045 - val_accuracy: 0.7708\n",
      "Epoch 9/30\n",
      "60000/60000 [==============================] - 2s 33us/sample - loss: 0.5393 - accuracy: 0.8031 - val_loss: 0.5790 - val_accuracy: 0.7720\n",
      "Epoch 10/30\n",
      "60000/60000 [==============================] - 2s 34us/sample - loss: 0.5370 - accuracy: 0.8034 - val_loss: 0.6569 - val_accuracy: 0.7239\n",
      "Epoch 11/30\n",
      "60000/60000 [==============================] - 2s 34us/sample - loss: 0.5288 - accuracy: 0.8047 - val_loss: 0.5727 - val_accuracy: 0.7685\n",
      "Epoch 12/30\n",
      "60000/60000 [==============================] - 2s 34us/sample - loss: 0.5304 - accuracy: 0.8040 - val_loss: 0.6736 - val_accuracy: 0.7280\n",
      "Epoch 13/30\n",
      "60000/60000 [==============================] - 2s 34us/sample - loss: 0.5233 - accuracy: 0.8086 - val_loss: 0.5329 - val_accuracy: 0.7992\n",
      "Epoch 14/30\n",
      "60000/60000 [==============================] - 2s 34us/sample - loss: 0.5175 - accuracy: 0.8117 - val_loss: 0.6374 - val_accuracy: 0.7437\n",
      "Epoch 15/30\n",
      "60000/60000 [==============================] - 2s 33us/sample - loss: 0.5143 - accuracy: 0.8121 - val_loss: 0.5386 - val_accuracy: 0.7945\n",
      "Epoch 16/30\n",
      "60000/60000 [==============================] - 2s 34us/sample - loss: 0.5081 - accuracy: 0.8131 - val_loss: 0.6618 - val_accuracy: 0.7285\n",
      "Epoch 17/30\n",
      "60000/60000 [==============================] - 2s 34us/sample - loss: 0.5093 - accuracy: 0.8125 - val_loss: 0.5326 - val_accuracy: 0.8070\n",
      "Epoch 18/30\n",
      "60000/60000 [==============================] - 2s 34us/sample - loss: 0.5055 - accuracy: 0.8159 - val_loss: 0.5893 - val_accuracy: 0.7797\n",
      "Epoch 19/30\n",
      "60000/60000 [==============================] - 2s 34us/sample - loss: 0.5060 - accuracy: 0.8148 - val_loss: 0.5485 - val_accuracy: 0.8023\n",
      "Epoch 20/30\n",
      "60000/60000 [==============================] - 2s 33us/sample - loss: 0.5031 - accuracy: 0.8170 - val_loss: 0.5870 - val_accuracy: 0.7803\n",
      "Epoch 21/30\n",
      "60000/60000 [==============================] - 2s 34us/sample - loss: 0.4998 - accuracy: 0.8187 - val_loss: 0.5252 - val_accuracy: 0.8106\n",
      "Epoch 22/30\n",
      "60000/60000 [==============================] - 2s 34us/sample - loss: 0.4944 - accuracy: 0.8200 - val_loss: 0.5889 - val_accuracy: 0.7773\n",
      "Epoch 23/30\n",
      "60000/60000 [==============================] - 2s 33us/sample - loss: 0.4968 - accuracy: 0.8171 - val_loss: 0.6435 - val_accuracy: 0.7449\n",
      "Epoch 24/30\n",
      "60000/60000 [==============================] - 2s 34us/sample - loss: 0.4947 - accuracy: 0.8183 - val_loss: 0.5097 - val_accuracy: 0.8249\n",
      "Epoch 25/30\n",
      "60000/60000 [==============================] - 2s 34us/sample - loss: 0.4936 - accuracy: 0.8195 - val_loss: 0.6229 - val_accuracy: 0.7446\n",
      "Epoch 26/30\n",
      "60000/60000 [==============================] - 2s 34us/sample - loss: 0.4844 - accuracy: 0.8220 - val_loss: 0.5383 - val_accuracy: 0.7964\n",
      "Epoch 27/30\n",
      "60000/60000 [==============================] - 2s 33us/sample - loss: 0.4899 - accuracy: 0.8222 - val_loss: 0.5970 - val_accuracy: 0.7670\n",
      "Epoch 28/30\n",
      "60000/60000 [==============================] - 2s 33us/sample - loss: 0.4839 - accuracy: 0.8236 - val_loss: 0.5823 - val_accuracy: 0.7754\n",
      "Epoch 29/30\n",
      "60000/60000 [==============================] - 2s 33us/sample - loss: 0.4862 - accuracy: 0.8211 - val_loss: 0.7096 - val_accuracy: 0.6837\n",
      "Epoch 30/30\n",
      "60000/60000 [==============================] - 2s 34us/sample - loss: 0.4882 - accuracy: 0.8216 - val_loss: 0.5298 - val_accuracy: 0.8057\n"
     ]
    }
   ],
   "source": [
    "history = model.fit(train_images, \n",
    "                    train_labels, \n",
    "                    epochs=30,\n",
    "                    validation_data=(test_images, test_labels))"
   ]
  },
  {
   "cell_type": "code",
   "execution_count": 17,
   "metadata": {},
   "outputs": [
    {
     "name": "stdout",
     "output_type": "stream",
     "text": [
      "Model: \"model_1\"\n",
      "__________________________________________________________________________________________________\n",
      "Layer (type)                    Output Shape         Param #     Connected to                     \n",
      "==================================================================================================\n",
      "input_2 (InputLayer)            [(None, 28, 28)]     0                                            \n",
      "__________________________________________________________________________________________________\n",
      "input_3 (InputLayer)            [(None, 28, 28)]     0                                            \n",
      "__________________________________________________________________________________________________\n",
      "flatten_1 (Flatten)             (None, 784)          0           input_2[0][0]                    \n",
      "__________________________________________________________________________________________________\n",
      "flatten_2 (Flatten)             (None, 784)          0           input_3[0][0]                    \n",
      "__________________________________________________________________________________________________\n",
      "concatenate (Concatenate)       (None, 1568)         0           flatten_1[0][0]                  \n",
      "                                                                 flatten_2[0][0]                  \n",
      "__________________________________________________________________________________________________\n",
      "dense_3 (Dense)                 (None, 32)           50208       concatenate[0][0]                \n",
      "__________________________________________________________________________________________________\n",
      "dense_4 (Dense)                 (None, 1)            33          dense_3[0][0]                    \n",
      "==================================================================================================\n",
      "Total params: 50,241\n",
      "Trainable params: 50,241\n",
      "Non-trainable params: 0\n",
      "__________________________________________________________________________________________________\n"
     ]
    }
   ],
   "source": [
    "# 作用，构建多输入多输出模型\n",
    "input1 = keras.Input(shape=(28, 28))\n",
    "input2 = keras.Input(shape=(28, 28))\n",
    "x1 = keras.layers.Flatten()(input1)\n",
    "x2 = keras.layers.Flatten()(input2)\n",
    "#合并x1，x2，逻辑回归问题\n",
    "x = keras.layers.concatenate([x1, x2])\n",
    "x = keras.layers.Dense(32, activation='relu')(x)\n",
    "output = keras.layers.Dense(1, activation='sigmoid')(x)\n",
    "model = keras.Model(inputs = [input1, input2], outputs = output)\n",
    "model.summary()"
   ]
  },
  {
   "cell_type": "code",
   "execution_count": null,
   "metadata": {},
   "outputs": [],
   "source": []
  }
 ],
 "metadata": {
  "kernelspec": {
   "display_name": "Python 3",
   "language": "python",
   "name": "python3"
  },
  "language_info": {
   "codemirror_mode": {
    "name": "ipython",
    "version": 3
   },
   "file_extension": ".py",
   "mimetype": "text/x-python",
   "name": "python",
   "nbconvert_exporter": "python",
   "pygments_lexer": "ipython3",
   "version": "3.7.4"
  }
 },
 "nbformat": 4,
 "nbformat_minor": 2
}
